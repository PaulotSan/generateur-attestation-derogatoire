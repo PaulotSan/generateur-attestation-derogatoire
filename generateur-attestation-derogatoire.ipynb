{
 "cells": [
  {
   "cell_type": "markdown",
   "metadata": {},
   "source": [
    "# Générateur d'attestation de déplacement dérogatoire"
   ]
  },
  {
   "cell_type": "markdown",
   "metadata": {},
   "source": [
    "Voici un petit projet perso pour appliquer mes nouvelles connaissances sur la librairie Selenium utile pour le webscrapping dynamique, l'objectif est de générer une attestation de déplacement dérogatoire pour sortir de chez soi dans un rayon d'1km. En utilisant les coordonnées GPS de l'utilisateur, le programme va chercher sur Internet l'adresse correspondante à l'aide du site \"coordonnees-gps.fr\". Il va ensuite rentrer les informations de l'utilisateur (à coder) pour générer une attestation automatiquement sur le site du gouvernement \"media.interieur.gouv.fr/deplacement-covid-19\""
   ]
  },
  {
   "cell_type": "markdown",
   "metadata": {},
   "source": [
    "### Coordonnées utilisateur"
   ]
  },
  {
   "cell_type": "code",
   "execution_count": 1,
   "metadata": {},
   "outputs": [],
   "source": [
    "import time\n",
    "prenom = \"Paul\"\n",
    "nom = \"JOUET\"\n",
    "birthday = \"02/03/2000\"\n",
    "birthplace = \"Suresnes\"\n",
    "curtime = str(time.localtime()[3]) + ':' + str(time.localtime()[4])"
   ]
  },
  {
   "cell_type": "markdown",
   "metadata": {},
   "source": [
    "La partie ci-dessus est la seule à modifier pour l'adapter à vos informations personnelles. Vous pouvez aussi décider de garder une adresse constante en modifiant manuellement les variables `adresse` `ville` et `zipcode`"
   ]
  },
  {
   "cell_type": "markdown",
   "metadata": {},
   "source": [
    "### Importation des librairies Selenium"
   ]
  },
  {
   "cell_type": "markdown",
   "metadata": {},
   "source": [
    "Selenium ainsi que le driver chrome doivent être installés au préalable dans l'environnement de travail \n",
    "- `!pip install selenium`\n",
    "- [Chrome driver download](https://chromedriver.chromium.org/downloads)"
   ]
  },
  {
   "cell_type": "code",
   "execution_count": 2,
   "metadata": {},
   "outputs": [],
   "source": [
    "from selenium import webdriver"
   ]
  },
  {
   "cell_type": "code",
   "execution_count": 3,
   "metadata": {},
   "outputs": [],
   "source": [
    "from selenium.webdriver.support.ui import WebDriverWait"
   ]
  },
  {
   "cell_type": "code",
   "execution_count": 4,
   "metadata": {},
   "outputs": [],
   "source": [
    "from selenium.webdriver.support import expected_conditions as ec"
   ]
  },
  {
   "cell_type": "code",
   "execution_count": 5,
   "metadata": {},
   "outputs": [],
   "source": [
    "from selenium.webdriver.common.by import By"
   ]
  },
  {
   "cell_type": "code",
   "execution_count": 6,
   "metadata": {},
   "outputs": [],
   "source": [
    "from selenium.webdriver.common.keys import Keys"
   ]
  },
  {
   "cell_type": "markdown",
   "metadata": {},
   "source": [
    "### Lancement du driver"
   ]
  },
  {
   "cell_type": "code",
   "execution_count": 8,
   "metadata": {},
   "outputs": [],
   "source": [
    "driver = webdriver.Chrome()"
   ]
  },
  {
   "cell_type": "code",
   "execution_count": 9,
   "metadata": {},
   "outputs": [],
   "source": [
    "driver.execute_script(\"window.navigator.geolocation.getCurrentPosition = function(success){var position = {'coords' : {'latitude': '555','longitude': '999'}};success(position);}\");"
   ]
  },
  {
   "cell_type": "markdown",
   "metadata": {},
   "source": [
    "Ce script permet d'éviter un souci de blocage de la géolocalisation par le navigateur.\n",
    "Trouvé [ici](https://stackoverflow.com/questions/8411816/how-do-i-enable-geolocation-support-in-chromedriver)"
   ]
  },
  {
   "cell_type": "code",
   "execution_count": 10,
   "metadata": {},
   "outputs": [],
   "source": [
    "driver.get(\"https://www.coordonnees-gps.fr/\")"
   ]
  },
  {
   "cell_type": "code",
   "execution_count": 11,
   "metadata": {},
   "outputs": [],
   "source": [
    "time.sleep(2) # les time.sleep servent à s'assurer que la page a bien chargé avant de faire quoi que ce soit, pas toujours indispensable"
   ]
  },
  {
   "cell_type": "markdown",
   "metadata": {},
   "source": [
    "#### Récupération de l'adresse selon la géolocalisation"
   ]
  },
  {
   "cell_type": "code",
   "execution_count": 12,
   "metadata": {},
   "outputs": [
    {
     "data": {
      "text/plain": [
       "('Rue des Suisses', '92000', 'Nanterre')"
      ]
     },
     "execution_count": 12,
     "metadata": {},
     "output_type": "execute_result"
    }
   ],
   "source": [
    "waiter = WebDriverWait(driver, timeout=10)\n",
    "\n",
    "driver.execute_script(\"window.scrollTo(0, 1000);\")\n",
    "# pour que l'adresse soit affichée sur le site, il faut scroller ce qui active la géolocalisation\n",
    "\n",
    "ad = waiter.until(ec.presence_of_element_located(\n",
    "    (By.CSS_SELECTOR,\"h1[id='iwtitle']\")\n",
    "))\n",
    "# le waiter permet de s'assurer que l'adresse est bien apparue à l'écran avant de récupérer son texte\n",
    "\n",
    "txt=ad.text\n",
    "txt2=txt.split(', ')\n",
    "\n",
    "adresse = txt2[-3]\n",
    "txt3 = txt2[-2].split(' ')\n",
    "zipcode = txt3[0]\n",
    "ville = txt3[1]\n",
    "(adresse,zipcode,ville)"
   ]
  },
  {
   "cell_type": "markdown",
   "metadata": {},
   "source": [
    "Sur le site des coordonnées GPS, l'adresse est toujours formatée de la façon suivante : (elementfacultatif), (numRue) rue de Exemple, ZIPCODE City, France"
   ]
  },
  {
   "cell_type": "markdown",
   "metadata": {},
   "source": [
    "#### Création de l'attestation"
   ]
  },
  {
   "cell_type": "code",
   "execution_count": 13,
   "metadata": {},
   "outputs": [],
   "source": [
    "driver.get(\"https://media.interieur.gouv.fr/deplacement-covid-19/\")"
   ]
  },
  {
   "cell_type": "code",
   "execution_count": 14,
   "metadata": {},
   "outputs": [],
   "source": [
    "time.sleep(2)"
   ]
  },
  {
   "cell_type": "code",
   "execution_count": 15,
   "metadata": {
    "scrolled": true
   },
   "outputs": [],
   "source": [
    "waiter.until(ec.presence_of_element_located(\n",
    "    (By.XPATH,\"//button[contains(.,'Mettre')]\")\n",
    ")).click()"
   ]
  },
  {
   "cell_type": "markdown",
   "metadata": {},
   "source": [
    "En arrivant sur le site un popup de mise à jour apparaît, on récupère le bouton via Xpath et on l'effectue en cliquant dessus"
   ]
  },
  {
   "cell_type": "markdown",
   "metadata": {},
   "source": [
    "#### Remplissage des critères"
   ]
  },
  {
   "cell_type": "markdown",
   "metadata": {},
   "source": [
    "On remplit simplement chacune des textbox avec les informations récupérées au préalable"
   ]
  },
  {
   "cell_type": "code",
   "execution_count": 16,
   "metadata": {},
   "outputs": [],
   "source": [
    "prenom_field = driver.find_element_by_css_selector(\n",
    "    \"input[name='firstname']\")\n",
    "prenom_field.send_keys(prenom)"
   ]
  },
  {
   "cell_type": "code",
   "execution_count": 17,
   "metadata": {},
   "outputs": [],
   "source": [
    "nom_field = driver.find_element_by_css_selector(\n",
    "    \"input[name='lastname']\")\n",
    "nom_field.send_keys(nom)"
   ]
  },
  {
   "cell_type": "code",
   "execution_count": 18,
   "metadata": {},
   "outputs": [],
   "source": [
    "birthday_field = driver.find_element_by_css_selector(\n",
    "    \"input[name='birthday']\")\n",
    "birthday_field.send_keys(birthday)"
   ]
  },
  {
   "cell_type": "code",
   "execution_count": 19,
   "metadata": {},
   "outputs": [],
   "source": [
    "birthplace_field = driver.find_element_by_css_selector(\n",
    "    \"input[name='placeofbirth']\")\n",
    "birthplace_field.send_keys(birthplace)"
   ]
  },
  {
   "cell_type": "code",
   "execution_count": 20,
   "metadata": {},
   "outputs": [],
   "source": [
    "adresse_field = driver.find_element_by_css_selector(\n",
    "    \"input[name='address']\")\n",
    "adresse_field.send_keys(adresse)"
   ]
  },
  {
   "cell_type": "code",
   "execution_count": 21,
   "metadata": {},
   "outputs": [],
   "source": [
    "ville_field = driver.find_element_by_css_selector(\n",
    "    \"input[name='city']\")\n",
    "ville_field.send_keys(ville)"
   ]
  },
  {
   "cell_type": "code",
   "execution_count": 22,
   "metadata": {},
   "outputs": [],
   "source": [
    "zipcode_field = driver.find_element_by_css_selector(\n",
    "    \"input[name='zipcode']\")\n",
    "zipcode_field.send_keys(zipcode)"
   ]
  },
  {
   "cell_type": "code",
   "execution_count": 23,
   "metadata": {},
   "outputs": [],
   "source": [
    "time_field = driver.find_element_by_css_selector(\"input[name='heuresortie']\")\n",
    "time_field.send_keys(curtime)"
   ]
  },
  {
   "cell_type": "code",
   "execution_count": 24,
   "metadata": {},
   "outputs": [],
   "source": [
    "checkbox = driver.find_element_by_css_selector(\n",
    "    \"input[id='checkbox-sport_animaux']\")\n",
    "checkbox.click()"
   ]
  },
  {
   "cell_type": "markdown",
   "metadata": {},
   "source": [
    "### Génération"
   ]
  },
  {
   "cell_type": "markdown",
   "metadata": {},
   "source": [
    "L'attestation est générée par le site du gouvernement et téléchargée. Puis le driver est fermé."
   ]
  },
  {
   "cell_type": "code",
   "execution_count": 25,
   "metadata": {},
   "outputs": [],
   "source": [
    "generate_attestation = driver.find_element_by_css_selector(\"button[id='generate-btn']\")\n",
    "generate_attestation.click()"
   ]
  },
  {
   "cell_type": "code",
   "execution_count": 26,
   "metadata": {},
   "outputs": [],
   "source": [
    "time.sleep(2)\n",
    "driver.close()"
   ]
  },
  {
   "cell_type": "markdown",
   "metadata": {},
   "source": [
    "Reste à faire : donner accès à ce programme via un site pour obtenir l'attestation sur une page internet mobile"
   ]
  }
 ],
 "metadata": {
  "kernelspec": {
   "display_name": "Python 3",
   "language": "python",
   "name": "python3"
  },
  "language_info": {
   "codemirror_mode": {
    "name": "ipython",
    "version": 3
   },
   "file_extension": ".py",
   "mimetype": "text/x-python",
   "name": "python",
   "nbconvert_exporter": "python",
   "pygments_lexer": "ipython3",
   "version": "3.7.7"
  }
 },
 "nbformat": 4,
 "nbformat_minor": 4
}
